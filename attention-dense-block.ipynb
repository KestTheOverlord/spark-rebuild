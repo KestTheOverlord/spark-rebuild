{
 "cells": [
  {
   "cell_type": "code",
   "execution_count": 1,
   "id": "a01a823f",
   "metadata": {
    "_cell_guid": "b1076dfc-b9ad-4769-8c92-a6c4dae69d19",
    "_uuid": "8f2839f25d086af736a60e9eeb907d3b93b6e0e5",
    "execution": {
     "iopub.execute_input": "2024-12-02T21:14:44.990603Z",
     "iopub.status.busy": "2024-12-02T21:14:44.990193Z",
     "iopub.status.idle": "2024-12-02T21:14:46.045743Z",
     "shell.execute_reply": "2024-12-02T21:14:46.044250Z"
    },
    "papermill": {
     "duration": 1.062372,
     "end_time": "2024-12-02T21:14:46.048434",
     "exception": false,
     "start_time": "2024-12-02T21:14:44.986062",
     "status": "completed"
    },
    "tags": []
   },
   "outputs": [],
   "source": [
    "# This Python 3 environment comes with many helpful analytics libraries installed\n",
    "# It is defined by the kaggle/python Docker image: https://github.com/kaggle/docker-python\n",
    "# For example, here's several helpful packages to load\n",
    "\n",
    "import numpy as np # linear algebra\n",
    "import pandas as pd # data processing, CSV file I/O (e.g. pd.read_csv)\n",
    "\n",
    "# Input data files are available in the read-only \"../input/\" directory\n",
    "# For example, running this (by clicking run or pressing Shift+Enter) will list all files under the input directory\n",
    "\n",
    "import os\n",
    "for dirname, _, filenames in os.walk('/kaggle/input'):\n",
    "    for filename in filenames:\n",
    "        print(os.path.join(dirname, filename))\n",
    "\n",
    "# You can write up to 20GB to the current directory (/kaggle/working/) that gets preserved as output when you create a version using \"Save & Run All\" \n",
    "# You can also write temporary files to /kaggle/temp/, but they won't be saved outside of the current session"
   ]
  },
  {
   "cell_type": "code",
   "execution_count": 2,
   "id": "40368c24",
   "metadata": {
    "execution": {
     "iopub.execute_input": "2024-12-02T21:14:46.054365Z",
     "iopub.status.busy": "2024-12-02T21:14:46.053800Z",
     "iopub.status.idle": "2024-12-02T21:14:49.402722Z",
     "shell.execute_reply": "2024-12-02T21:14:49.401464Z"
    },
    "papermill": {
     "duration": 3.354826,
     "end_time": "2024-12-02T21:14:49.405426",
     "exception": false,
     "start_time": "2024-12-02T21:14:46.050600",
     "status": "completed"
    },
    "tags": []
   },
   "outputs": [
    {
     "name": "stdout",
     "output_type": "stream",
     "text": [
      "import successful\n"
     ]
    }
   ],
   "source": [
    "import torch\n",
    "import torch.nn as nn\n",
    "\n",
    "print(\"import successful\")"
   ]
  },
  {
   "cell_type": "code",
   "execution_count": 3,
   "id": "a535f6d1",
   "metadata": {
    "execution": {
     "iopub.execute_input": "2024-12-02T21:14:49.411911Z",
     "iopub.status.busy": "2024-12-02T21:14:49.410793Z",
     "iopub.status.idle": "2024-12-02T21:14:49.531041Z",
     "shell.execute_reply": "2024-12-02T21:14:49.529760Z"
    },
    "papermill": {
     "duration": 0.125892,
     "end_time": "2024-12-02T21:14:49.533476",
     "exception": false,
     "start_time": "2024-12-02T21:14:49.407584",
     "status": "completed"
    },
    "tags": []
   },
   "outputs": [],
   "source": [
    "class AttentionDenseBlock(nn.Module):\n",
    "    def __init__(self, in_channels, growth_rate, num_layers):\n",
    "        super().__init__()\n",
    "        self.layers = nn.ModuleList()\n",
    "        for i in range(num_layers):\n",
    "            self.layers.append(nn.Sequential(\n",
    "                nn.Conv2d(in_channels + i * growth_rate, growth_rate, kernel_size=3, padding=1),\n",
    "                nn.ReLU(inplace=True),\n",
    "                nn.BatchNorm2d(growth_rate)\n",
    "            ))\n",
    "        self.attention = nn.Sequential(\n",
    "            nn.Conv2d(in_channels + num_layers * growth_rate, 1, kernel_size=1),\n",
    "            nn.Sigmoid()\n",
    "        )\n",
    "\n",
    "    def forward(self, x):\n",
    "        for layer in self.layers:\n",
    "            out = layer(x)\n",
    "            x = torch.cat([x, out], dim=1)\n",
    "        attention = self.attention(x)\n",
    "        return x * attention\n"
   ]
  },
  {
   "cell_type": "code",
   "execution_count": null,
   "id": "cb65faa7",
   "metadata": {
    "papermill": {
     "duration": 0.001801,
     "end_time": "2024-12-02T21:14:49.537370",
     "exception": false,
     "start_time": "2024-12-02T21:14:49.535569",
     "status": "completed"
    },
    "tags": []
   },
   "outputs": [],
   "source": []
  }
 ],
 "metadata": {
  "kaggle": {
   "accelerator": "none",
   "dataSources": [],
   "dockerImageVersionId": 30804,
   "isGpuEnabled": false,
   "isInternetEnabled": false,
   "language": "python",
   "sourceType": "notebook"
  },
  "kernelspec": {
   "display_name": "Python 3",
   "language": "python",
   "name": "python3"
  },
  "language_info": {
   "codemirror_mode": {
    "name": "ipython",
    "version": 3
   },
   "file_extension": ".py",
   "mimetype": "text/x-python",
   "name": "python",
   "nbconvert_exporter": "python",
   "pygments_lexer": "ipython3",
   "version": "3.10.14"
  },
  "papermill": {
   "default_parameters": {},
   "duration": 8.459672,
   "end_time": "2024-12-02T21:14:50.563911",
   "environment_variables": {},
   "exception": null,
   "input_path": "__notebook__.ipynb",
   "output_path": "__notebook__.ipynb",
   "parameters": {},
   "start_time": "2024-12-02T21:14:42.104239",
   "version": "2.6.0"
  }
 },
 "nbformat": 4,
 "nbformat_minor": 5
}
