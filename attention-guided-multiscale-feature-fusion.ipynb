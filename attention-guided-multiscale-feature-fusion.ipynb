{
 "cells": [
  {
   "cell_type": "code",
   "execution_count": 1,
   "id": "05a2cdf6",
   "metadata": {
    "_cell_guid": "b1076dfc-b9ad-4769-8c92-a6c4dae69d19",
    "_uuid": "8f2839f25d086af736a60e9eeb907d3b93b6e0e5",
    "execution": {
     "iopub.execute_input": "2024-12-02T21:24:26.596937Z",
     "iopub.status.busy": "2024-12-02T21:24:26.596550Z",
     "iopub.status.idle": "2024-12-02T21:24:27.347293Z",
     "shell.execute_reply": "2024-12-02T21:24:27.346268Z"
    },
    "papermill": {
     "duration": 0.756643,
     "end_time": "2024-12-02T21:24:27.349649",
     "exception": false,
     "start_time": "2024-12-02T21:24:26.593006",
     "status": "completed"
    },
    "tags": []
   },
   "outputs": [],
   "source": [
    "# This Python 3 environment comes with many helpful analytics libraries installed\n",
    "# It is defined by the kaggle/python Docker image: https://github.com/kaggle/docker-python\n",
    "# For example, here's several helpful packages to load\n",
    "\n",
    "import numpy as np # linear algebra\n",
    "import pandas as pd # data processing, CSV file I/O (e.g. pd.read_csv)\n",
    "\n",
    "# Input data files are available in the read-only \"../input/\" directory\n",
    "# For example, running this (by clicking run or pressing Shift+Enter) will list all files under the input directory\n",
    "\n",
    "import os\n",
    "for dirname, _, filenames in os.walk('/kaggle/input'):\n",
    "    for filename in filenames:\n",
    "        print(os.path.join(dirname, filename))\n",
    "\n",
    "# You can write up to 20GB to the current directory (/kaggle/working/) that gets preserved as output when you create a version using \"Save & Run All\" \n",
    "# You can also write temporary files to /kaggle/temp/, but they won't be saved outside of the current session"
   ]
  },
  {
   "cell_type": "code",
   "execution_count": 2,
   "id": "13c36776",
   "metadata": {
    "execution": {
     "iopub.execute_input": "2024-12-02T21:24:27.355219Z",
     "iopub.status.busy": "2024-12-02T21:24:27.354506Z",
     "iopub.status.idle": "2024-12-02T21:24:29.943146Z",
     "shell.execute_reply": "2024-12-02T21:24:29.942038Z"
    },
    "papermill": {
     "duration": 2.593592,
     "end_time": "2024-12-02T21:24:29.945278",
     "exception": false,
     "start_time": "2024-12-02T21:24:27.351686",
     "status": "completed"
    },
    "tags": []
   },
   "outputs": [
    {
     "name": "stdout",
     "output_type": "stream",
     "text": [
      "success\n"
     ]
    }
   ],
   "source": [
    "import torch\n",
    "import torch.nn as nn\n",
    "\n",
    "print(\"success\")"
   ]
  },
  {
   "cell_type": "code",
   "execution_count": 3,
   "id": "9431f7cd",
   "metadata": {
    "execution": {
     "iopub.execute_input": "2024-12-02T21:24:29.950314Z",
     "iopub.status.busy": "2024-12-02T21:24:29.949886Z",
     "iopub.status.idle": "2024-12-02T21:24:30.056820Z",
     "shell.execute_reply": "2024-12-02T21:24:30.055767Z"
    },
    "papermill": {
     "duration": 0.111599,
     "end_time": "2024-12-02T21:24:30.058765",
     "exception": false,
     "start_time": "2024-12-02T21:24:29.947166",
     "status": "completed"
    },
    "tags": []
   },
   "outputs": [],
   "source": [
    "class AttentionGuidedFeatureFusion(nn.Module):\n",
    "    def __init__(self, in_channels, out_channels):\n",
    "        super().__init__()\n",
    "        self.attention = nn.Sequential(\n",
    "            nn.Conv2d(in_channels, in_channels, kernel_size=1),\n",
    "            nn.Sigmoid()\n",
    "        )\n",
    "        self.fusion = nn.Sequential(\n",
    "            nn.Conv2d(in_channels, out_channels, kernel_size=1),\n",
    "            nn.ReLU(inplace=True),\n",
    "            nn.BatchNorm2d(out_channels)\n",
    "        )\n",
    "\n",
    "    def forward(self, x1, x2):\n",
    "        # x1 and x2 are feature maps from different scales\n",
    "        attention_map = self.attention(x1)\n",
    "        fused = x1 * attention_map + x2\n",
    "        return self.fusion(fused)\n"
   ]
  },
  {
   "cell_type": "code",
   "execution_count": null,
   "id": "08d64288",
   "metadata": {
    "papermill": {
     "duration": 0.001544,
     "end_time": "2024-12-02T21:24:30.062209",
     "exception": false,
     "start_time": "2024-12-02T21:24:30.060665",
     "status": "completed"
    },
    "tags": []
   },
   "outputs": [],
   "source": []
  }
 ],
 "metadata": {
  "kaggle": {
   "accelerator": "none",
   "dataSources": [],
   "dockerImageVersionId": 30804,
   "isGpuEnabled": false,
   "isInternetEnabled": false,
   "language": "python",
   "sourceType": "notebook"
  },
  "kernelspec": {
   "display_name": "Python 3",
   "language": "python",
   "name": "python3"
  },
  "language_info": {
   "codemirror_mode": {
    "name": "ipython",
    "version": 3
   },
   "file_extension": ".py",
   "mimetype": "text/x-python",
   "name": "python",
   "nbconvert_exporter": "python",
   "pygments_lexer": "ipython3",
   "version": "3.10.14"
  },
  "papermill": {
   "default_parameters": {},
   "duration": 6.754723,
   "end_time": "2024-12-02T21:24:30.884127",
   "environment_variables": {},
   "exception": null,
   "input_path": "__notebook__.ipynb",
   "output_path": "__notebook__.ipynb",
   "parameters": {},
   "start_time": "2024-12-02T21:24:24.129404",
   "version": "2.6.0"
  }
 },
 "nbformat": 4,
 "nbformat_minor": 5
}
