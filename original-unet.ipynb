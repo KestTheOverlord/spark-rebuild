{
 "cells": [
  {
   "cell_type": "code",
   "execution_count": 1,
   "id": "602c611d",
   "metadata": {
    "execution": {
     "iopub.execute_input": "2024-11-26T20:39:39.313842Z",
     "iopub.status.busy": "2024-11-26T20:39:39.313381Z",
     "iopub.status.idle": "2024-11-26T20:39:42.222077Z",
     "shell.execute_reply": "2024-11-26T20:39:42.221136Z"
    },
    "papermill": {
     "duration": 2.914963,
     "end_time": "2024-11-26T20:39:42.224591",
     "exception": false,
     "start_time": "2024-11-26T20:39:39.309628",
     "status": "completed"
    },
    "tags": []
   },
   "outputs": [],
   "source": [
    "import torch\n",
    "import torch.nn as nn"
   ]
  },
  {
   "cell_type": "code",
   "execution_count": null,
   "id": "fa2a853b",
   "metadata": {
    "papermill": {
     "duration": 0.001688,
     "end_time": "2024-11-26T20:39:42.228474",
     "exception": false,
     "start_time": "2024-11-26T20:39:42.226786",
     "status": "completed"
    },
    "tags": []
   },
   "outputs": [],
   "source": []
  },
  {
   "cell_type": "code",
   "execution_count": 2,
   "id": "65773f5b",
   "metadata": {
    "execution": {
     "iopub.execute_input": "2024-11-26T20:39:42.233489Z",
     "iopub.status.busy": "2024-11-26T20:39:42.232990Z",
     "iopub.status.idle": "2024-11-26T20:39:42.238525Z",
     "shell.execute_reply": "2024-11-26T20:39:42.237480Z"
    },
    "papermill": {
     "duration": 0.010394,
     "end_time": "2024-11-26T20:39:42.240510",
     "exception": false,
     "start_time": "2024-11-26T20:39:42.230116",
     "status": "completed"
    },
    "tags": []
   },
   "outputs": [],
   "source": [
    "def double_conv(in_channel, out_channel):\n",
    "    nn.Sequential(\n",
    "        nn.Conv2d(in_channel, out_channel, kernel_size=3),\n",
    "        nn.ReLU(inplace=True),\n",
    "        nn.Conv2d(out_channel, out_channel, kernel_size=3),\n",
    "        nn.ReLU(inplace=True)\n",
    "    )\n",
    "    return conv"
   ]
  },
  {
   "cell_type": "code",
   "execution_count": 3,
   "id": "a3033768",
   "metadata": {
    "execution": {
     "iopub.execute_input": "2024-11-26T20:39:42.245632Z",
     "iopub.status.busy": "2024-11-26T20:39:42.245256Z",
     "iopub.status.idle": "2024-11-26T20:39:42.253040Z",
     "shell.execute_reply": "2024-11-26T20:39:42.251825Z"
    },
    "papermill": {
     "duration": 0.01265,
     "end_time": "2024-11-26T20:39:42.255029",
     "exception": false,
     "start_time": "2024-11-26T20:39:42.242379",
     "status": "completed"
    },
    "tags": []
   },
   "outputs": [],
   "source": [
    "class UNet(nn.Module):\n",
    "    def __init__(self):\n",
    "        super(UNet, self).__init_()\n",
    "\n",
    "        self.max_pool2x2 = nn.MaxPool2d(stride=2, kernel_size=2)\n",
    "        self.down_conv_1 = conv(1, 64)\n",
    "        self.down_conv_2 = conv(64, 128)\n",
    "        self.down_conv_3 = conv(128, 256)\n",
    "        self.down_conv_4 = conv(256, 512)\n",
    "        self.down_conv_5 = conv(512, 1024)\n",
    "\n",
    "    def forward(self, image):\n",
    "        #encoder\n",
    "        x1 = self.down_conv_1(image)\n",
    "        print(x1.size())\n",
    "        x2 = self.max_pool_2x2(x1)\n",
    "        x3 = self.down_conv_2(x2)\n",
    "        x4 = self.max_pool_2x2(x3)\n",
    "        x5 = self.down_conv_3(x4)\n",
    "        x6 = self.max_pool_2x2(x5)\n",
    "        x7 = self.down_conv_4(x6)\n",
    "        x8 = self.max_pool_2x2(x7)\n",
    "        x9 = self.down_conv_5(x8)\n",
    "\n",
    "# if __name__ == '__main__':\n",
    "#     model = UNet()\n",
    "#     model.forward(1, 1, 1024, 1024)"
   ]
  }
 ],
 "metadata": {
  "kaggle": {
   "accelerator": "none",
   "dataSources": [],
   "dockerImageVersionId": 30786,
   "isGpuEnabled": false,
   "isInternetEnabled": true,
   "language": "python",
   "sourceType": "notebook"
  },
  "kernelspec": {
   "display_name": "Python 3",
   "language": "python",
   "name": "python3"
  },
  "language_info": {
   "codemirror_mode": {
    "name": "ipython",
    "version": 3
   },
   "file_extension": ".py",
   "mimetype": "text/x-python",
   "name": "python",
   "nbconvert_exporter": "python",
   "pygments_lexer": "ipython3",
   "version": "3.10.14"
  },
  "papermill": {
   "default_parameters": {},
   "duration": 6.401797,
   "end_time": "2024-11-26T20:39:43.077837",
   "environment_variables": {},
   "exception": null,
   "input_path": "__notebook__.ipynb",
   "output_path": "__notebook__.ipynb",
   "parameters": {},
   "start_time": "2024-11-26T20:39:36.676040",
   "version": "2.6.0"
  }
 },
 "nbformat": 4,
 "nbformat_minor": 5
}
