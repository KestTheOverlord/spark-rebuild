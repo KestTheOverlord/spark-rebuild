{
 "cells": [
  {
   "cell_type": "markdown",
   "id": "cecb65db",
   "metadata": {
    "papermill": {
     "duration": 0.001993,
     "end_time": "2024-11-26T20:43:43.044571",
     "exception": false,
     "start_time": "2024-11-26T20:43:43.042578",
     "status": "completed"
    },
    "tags": []
   },
   "source": [
    "### ADT-UNet "
   ]
  },
  {
   "cell_type": "code",
   "execution_count": 1,
   "id": "45874ccd",
   "metadata": {
    "execution": {
     "iopub.execute_input": "2024-11-26T20:43:43.049498Z",
     "iopub.status.busy": "2024-11-26T20:43:43.049096Z",
     "iopub.status.idle": "2024-11-26T20:43:43.054558Z",
     "shell.execute_reply": "2024-11-26T20:43:43.053636Z"
    },
    "papermill": {
     "duration": 0.010301,
     "end_time": "2024-11-26T20:43:43.056614",
     "exception": false,
     "start_time": "2024-11-26T20:43:43.046313",
     "status": "completed"
    },
    "tags": []
   },
   "outputs": [],
   "source": [
    "# This is a demo coment"
   ]
  },
  {
   "cell_type": "code",
   "execution_count": null,
   "id": "9fcbb5af",
   "metadata": {
    "papermill": {
     "duration": 0.001307,
     "end_time": "2024-11-26T20:43:43.059624",
     "exception": false,
     "start_time": "2024-11-26T20:43:43.058317",
     "status": "completed"
    },
    "tags": []
   },
   "outputs": [],
   "source": []
  }
 ],
 "metadata": {
  "kaggle": {
   "accelerator": "none",
   "dataSources": [
    {
     "datasetId": 4545177,
     "sourceId": 7769550,
     "sourceType": "datasetVersion"
    }
   ],
   "dockerImageVersionId": 30786,
   "isGpuEnabled": false,
   "isInternetEnabled": false,
   "language": "python",
   "sourceType": "notebook"
  },
  "kernelspec": {
   "display_name": "Python 3",
   "language": "python",
   "name": "python3"
  },
  "language_info": {
   "codemirror_mode": {
    "name": "ipython",
    "version": 3
   },
   "file_extension": ".py",
   "mimetype": "text/x-python",
   "name": "python",
   "nbconvert_exporter": "python",
   "pygments_lexer": "ipython3",
   "version": "3.10.14"
  },
  "papermill": {
   "default_parameters": {},
   "duration": 3.004799,
   "end_time": "2024-11-26T20:43:43.380114",
   "environment_variables": {},
   "exception": null,
   "input_path": "__notebook__.ipynb",
   "output_path": "__notebook__.ipynb",
   "parameters": {},
   "start_time": "2024-11-26T20:43:40.375315",
   "version": "2.6.0"
  }
 },
 "nbformat": 4,
 "nbformat_minor": 5
}
