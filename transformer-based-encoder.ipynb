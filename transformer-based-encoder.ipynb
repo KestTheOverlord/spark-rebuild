{
 "cells": [
  {
   "cell_type": "code",
   "execution_count": 1,
   "id": "9aa57039",
   "metadata": {
    "_cell_guid": "b1076dfc-b9ad-4769-8c92-a6c4dae69d19",
    "_uuid": "8f2839f25d086af736a60e9eeb907d3b93b6e0e5",
    "execution": {
     "iopub.execute_input": "2024-12-02T21:20:24.153735Z",
     "iopub.status.busy": "2024-12-02T21:20:24.153245Z",
     "iopub.status.idle": "2024-12-02T21:20:25.098664Z",
     "shell.execute_reply": "2024-12-02T21:20:25.097242Z"
    },
    "papermill": {
     "duration": 0.952115,
     "end_time": "2024-12-02T21:20:25.101252",
     "exception": false,
     "start_time": "2024-12-02T21:20:24.149137",
     "status": "completed"
    },
    "tags": []
   },
   "outputs": [],
   "source": [
    "# This Python 3 environment comes with many helpful analytics libraries installed\n",
    "# It is defined by the kaggle/python Docker image: https://github.com/kaggle/docker-python\n",
    "# For example, here's several helpful packages to load\n",
    "\n",
    "import numpy as np # linear algebra\n",
    "import pandas as pd # data processing, CSV file I/O (e.g. pd.read_csv)\n",
    "\n",
    "# Input data files are available in the read-only \"../input/\" directory\n",
    "# For example, running this (by clicking run or pressing Shift+Enter) will list all files under the input directory\n",
    "\n",
    "import os\n",
    "for dirname, _, filenames in os.walk('/kaggle/input'):\n",
    "    for filename in filenames:\n",
    "        print(os.path.join(dirname, filename))\n",
    "\n",
    "# You can write up to 20GB to the current directory (/kaggle/working/) that gets preserved as output when you create a version using \"Save & Run All\" \n",
    "# You can also write temporary files to /kaggle/temp/, but they won't be saved outside of the current session"
   ]
  },
  {
   "cell_type": "code",
   "execution_count": 2,
   "id": "47a738fe",
   "metadata": {
    "execution": {
     "iopub.execute_input": "2024-12-02T21:20:25.107137Z",
     "iopub.status.busy": "2024-12-02T21:20:25.106588Z",
     "iopub.status.idle": "2024-12-02T21:20:28.405316Z",
     "shell.execute_reply": "2024-12-02T21:20:28.404119Z"
    },
    "papermill": {
     "duration": 3.304565,
     "end_time": "2024-12-02T21:20:28.408031",
     "exception": false,
     "start_time": "2024-12-02T21:20:25.103466",
     "status": "completed"
    },
    "tags": []
   },
   "outputs": [
    {
     "name": "stdout",
     "output_type": "stream",
     "text": [
      "successfully imported\n"
     ]
    }
   ],
   "source": [
    "import torch\n",
    "import torch.nn as nn\n",
    "\n",
    "print(\"successfully imported\")"
   ]
  },
  {
   "cell_type": "code",
   "execution_count": 3,
   "id": "f23a7545",
   "metadata": {
    "execution": {
     "iopub.execute_input": "2024-12-02T21:20:28.413892Z",
     "iopub.status.busy": "2024-12-02T21:20:28.413285Z",
     "iopub.status.idle": "2024-12-02T21:20:28.530794Z",
     "shell.execute_reply": "2024-12-02T21:20:28.529623Z"
    },
    "papermill": {
     "duration": 0.122806,
     "end_time": "2024-12-02T21:20:28.532874",
     "exception": false,
     "start_time": "2024-12-02T21:20:28.410068",
     "status": "completed"
    },
    "tags": []
   },
   "outputs": [],
   "source": [
    "class TransformerEncoder(nn.Module):\n",
    "    def __init__(self, input_dim, num_heads, hidden_dim, num_layers):\n",
    "        super().__init__()\n",
    "        self.layers = nn.ModuleList([\n",
    "            nn.TransformerEncoderLayer(\n",
    "                d_model=input_dim,\n",
    "                nhead=num_heads,\n",
    "                dim_feedforward=hidden_dim,\n",
    "                activation=\"relu\"\n",
    "            )\n",
    "            for _ in range(num_layers)\n",
    "        ])\n",
    "\n",
    "    def forward(self, x):\n",
    "        for layer in self.layers:\n",
    "            x = layer(x)\n",
    "        return x"
   ]
  },
  {
   "cell_type": "code",
   "execution_count": null,
   "id": "5d6d0a35",
   "metadata": {
    "papermill": {
     "duration": 0.001567,
     "end_time": "2024-12-02T21:20:28.536502",
     "exception": false,
     "start_time": "2024-12-02T21:20:28.534935",
     "status": "completed"
    },
    "tags": []
   },
   "outputs": [],
   "source": []
  }
 ],
 "metadata": {
  "kaggle": {
   "accelerator": "none",
   "dataSources": [],
   "dockerImageVersionId": 30804,
   "isGpuEnabled": false,
   "isInternetEnabled": false,
   "language": "python",
   "sourceType": "notebook"
  },
  "kernelspec": {
   "display_name": "Python 3",
   "language": "python",
   "name": "python3"
  },
  "language_info": {
   "codemirror_mode": {
    "name": "ipython",
    "version": 3
   },
   "file_extension": ".py",
   "mimetype": "text/x-python",
   "name": "python",
   "nbconvert_exporter": "python",
   "pygments_lexer": "ipython3",
   "version": "3.10.14"
  },
  "papermill": {
   "default_parameters": {},
   "duration": 8.585123,
   "end_time": "2024-12-02T21:20:29.460950",
   "environment_variables": {},
   "exception": null,
   "input_path": "__notebook__.ipynb",
   "output_path": "__notebook__.ipynb",
   "parameters": {},
   "start_time": "2024-12-02T21:20:20.875827",
   "version": "2.6.0"
  }
 },
 "nbformat": 4,
 "nbformat_minor": 5
}
